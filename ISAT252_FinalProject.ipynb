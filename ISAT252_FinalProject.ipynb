{
 "cells": [
  {
   "cell_type": "markdown",
   "metadata": {},
   "source": [
    "# ISAT 252 Final Project"
   ]
  },
  {
   "cell_type": "markdown",
   "metadata": {},
   "source": [
    "## Background on COVID-19"
   ]
  },
  {
   "cell_type": "markdown",
   "metadata": {},
   "source": [
    "![Image](https://images.newscientist.com/wp-content/uploads/2020/02/11165812/c0481846-wuhan_novel_coronavirus_illustration-spl.jpg)\n",
    " \n",
    "Coronavirus is a large family of viruses which circulate among animals such as pis, camels, bats, and cats. Of the hundreds of strains of this virus 7 have lept to humans in what is known as a spill over event and of these 7 only 3 cause serious illness: SARS-CoV, MERS-Cov, and COVID-19. The 4 other strains of spill over virus only cause mild to moderat upper respiratory tract illness similar to that of a common cold, but the 3 more serious strains have led to widespread illness and death. COVID-19 was first documented in Wuhan, China in December of 2019 and by May 2020 the  World Health Organization dclared it a global pandemic. This pandemic has led to quarantine periods and the adoption of trends such as social distancing and wearing a mask.\n",
    "\n",
    "[NIH](https://www.niaid.nih.gov/diseases-conditions/coronaviruses)\n",
    " \n",
    "[WHO](https://www.who.int/emergencies/diseases/novel-coronavirus-2019/events-as-they-happen)"
   ]
  },
  {
   "cell_type": "markdown",
   "metadata": {},
   "source": [
    "## Data Set"
   ]
  },
  {
   "cell_type": "markdown",
   "metadata": {},
   "source": [
    "[ECDC](https://www.ecdc.europa.eu/en/publications-data/download-todays-data-geographic-distribution-covid-19-cases-worldwide)"
   ]
  },
  {
   "cell_type": "code",
   "execution_count": 7,
   "metadata": {},
   "outputs": [],
   "source": [
    "%matplotlib inline\n",
    "import pandas"
   ]
  },
  {
   "cell_type": "code",
   "execution_count": 9,
   "metadata": {},
   "outputs": [
    {
     "data": {
      "text/html": [
       "<div>\n",
       "<style scoped>\n",
       "    .dataframe tbody tr th:only-of-type {\n",
       "        vertical-align: middle;\n",
       "    }\n",
       "\n",
       "    .dataframe tbody tr th {\n",
       "        vertical-align: top;\n",
       "    }\n",
       "\n",
       "    .dataframe thead th {\n",
       "        text-align: right;\n",
       "    }\n",
       "</style>\n",
       "<table border=\"1\" class=\"dataframe\">\n",
       "  <thead>\n",
       "    <tr style=\"text-align: right;\">\n",
       "      <th></th>\n",
       "      <th>dateRep</th>\n",
       "      <th>day</th>\n",
       "      <th>month</th>\n",
       "      <th>year</th>\n",
       "      <th>cases</th>\n",
       "      <th>deaths</th>\n",
       "      <th>countriesAndTerritories</th>\n",
       "      <th>geoId</th>\n",
       "      <th>countryterritoryCode</th>\n",
       "      <th>popData2018</th>\n",
       "      <th>continentExp</th>\n",
       "    </tr>\n",
       "  </thead>\n",
       "  <tbody>\n",
       "    <tr>\n",
       "      <th>0</th>\n",
       "      <td>2020-06-10</td>\n",
       "      <td>10</td>\n",
       "      <td>6</td>\n",
       "      <td>2020</td>\n",
       "      <td>542</td>\n",
       "      <td>15</td>\n",
       "      <td>Afghanistan</td>\n",
       "      <td>AF</td>\n",
       "      <td>AFG</td>\n",
       "      <td>37172386.0</td>\n",
       "      <td>Asia</td>\n",
       "    </tr>\n",
       "    <tr>\n",
       "      <th>1</th>\n",
       "      <td>2020-06-09</td>\n",
       "      <td>9</td>\n",
       "      <td>6</td>\n",
       "      <td>2020</td>\n",
       "      <td>575</td>\n",
       "      <td>12</td>\n",
       "      <td>Afghanistan</td>\n",
       "      <td>AF</td>\n",
       "      <td>AFG</td>\n",
       "      <td>37172386.0</td>\n",
       "      <td>Asia</td>\n",
       "    </tr>\n",
       "    <tr>\n",
       "      <th>2</th>\n",
       "      <td>2020-06-08</td>\n",
       "      <td>8</td>\n",
       "      <td>6</td>\n",
       "      <td>2020</td>\n",
       "      <td>791</td>\n",
       "      <td>30</td>\n",
       "      <td>Afghanistan</td>\n",
       "      <td>AF</td>\n",
       "      <td>AFG</td>\n",
       "      <td>37172386.0</td>\n",
       "      <td>Asia</td>\n",
       "    </tr>\n",
       "    <tr>\n",
       "      <th>3</th>\n",
       "      <td>2020-06-07</td>\n",
       "      <td>7</td>\n",
       "      <td>6</td>\n",
       "      <td>2020</td>\n",
       "      <td>582</td>\n",
       "      <td>18</td>\n",
       "      <td>Afghanistan</td>\n",
       "      <td>AF</td>\n",
       "      <td>AFG</td>\n",
       "      <td>37172386.0</td>\n",
       "      <td>Asia</td>\n",
       "    </tr>\n",
       "    <tr>\n",
       "      <th>4</th>\n",
       "      <td>2020-06-06</td>\n",
       "      <td>6</td>\n",
       "      <td>6</td>\n",
       "      <td>2020</td>\n",
       "      <td>915</td>\n",
       "      <td>9</td>\n",
       "      <td>Afghanistan</td>\n",
       "      <td>AF</td>\n",
       "      <td>AFG</td>\n",
       "      <td>37172386.0</td>\n",
       "      <td>Asia</td>\n",
       "    </tr>\n",
       "    <tr>\n",
       "      <th>5</th>\n",
       "      <td>2020-06-05</td>\n",
       "      <td>5</td>\n",
       "      <td>6</td>\n",
       "      <td>2020</td>\n",
       "      <td>787</td>\n",
       "      <td>6</td>\n",
       "      <td>Afghanistan</td>\n",
       "      <td>AF</td>\n",
       "      <td>AFG</td>\n",
       "      <td>37172386.0</td>\n",
       "      <td>Asia</td>\n",
       "    </tr>\n",
       "    <tr>\n",
       "      <th>6</th>\n",
       "      <td>2020-06-04</td>\n",
       "      <td>4</td>\n",
       "      <td>6</td>\n",
       "      <td>2020</td>\n",
       "      <td>758</td>\n",
       "      <td>24</td>\n",
       "      <td>Afghanistan</td>\n",
       "      <td>AF</td>\n",
       "      <td>AFG</td>\n",
       "      <td>37172386.0</td>\n",
       "      <td>Asia</td>\n",
       "    </tr>\n",
       "    <tr>\n",
       "      <th>7</th>\n",
       "      <td>2020-06-03</td>\n",
       "      <td>3</td>\n",
       "      <td>6</td>\n",
       "      <td>2020</td>\n",
       "      <td>759</td>\n",
       "      <td>5</td>\n",
       "      <td>Afghanistan</td>\n",
       "      <td>AF</td>\n",
       "      <td>AFG</td>\n",
       "      <td>37172386.0</td>\n",
       "      <td>Asia</td>\n",
       "    </tr>\n",
       "    <tr>\n",
       "      <th>8</th>\n",
       "      <td>2020-06-02</td>\n",
       "      <td>2</td>\n",
       "      <td>6</td>\n",
       "      <td>2020</td>\n",
       "      <td>545</td>\n",
       "      <td>8</td>\n",
       "      <td>Afghanistan</td>\n",
       "      <td>AF</td>\n",
       "      <td>AFG</td>\n",
       "      <td>37172386.0</td>\n",
       "      <td>Asia</td>\n",
       "    </tr>\n",
       "    <tr>\n",
       "      <th>9</th>\n",
       "      <td>2020-06-01</td>\n",
       "      <td>1</td>\n",
       "      <td>6</td>\n",
       "      <td>2020</td>\n",
       "      <td>680</td>\n",
       "      <td>8</td>\n",
       "      <td>Afghanistan</td>\n",
       "      <td>AF</td>\n",
       "      <td>AFG</td>\n",
       "      <td>37172386.0</td>\n",
       "      <td>Asia</td>\n",
       "    </tr>\n",
       "  </tbody>\n",
       "</table>\n",
       "</div>"
      ],
      "text/plain": [
       "     dateRep  day  month  year  cases  deaths countriesAndTerritories geoId  \\\n",
       "0 2020-06-10   10      6  2020    542      15             Afghanistan    AF   \n",
       "1 2020-06-09    9      6  2020    575      12             Afghanistan    AF   \n",
       "2 2020-06-08    8      6  2020    791      30             Afghanistan    AF   \n",
       "3 2020-06-07    7      6  2020    582      18             Afghanistan    AF   \n",
       "4 2020-06-06    6      6  2020    915       9             Afghanistan    AF   \n",
       "5 2020-06-05    5      6  2020    787       6             Afghanistan    AF   \n",
       "6 2020-06-04    4      6  2020    758      24             Afghanistan    AF   \n",
       "7 2020-06-03    3      6  2020    759       5             Afghanistan    AF   \n",
       "8 2020-06-02    2      6  2020    545       8             Afghanistan    AF   \n",
       "9 2020-06-01    1      6  2020    680       8             Afghanistan    AF   \n",
       "\n",
       "  countryterritoryCode  popData2018 continentExp  \n",
       "0                  AFG   37172386.0         Asia  \n",
       "1                  AFG   37172386.0         Asia  \n",
       "2                  AFG   37172386.0         Asia  \n",
       "3                  AFG   37172386.0         Asia  \n",
       "4                  AFG   37172386.0         Asia  \n",
       "5                  AFG   37172386.0         Asia  \n",
       "6                  AFG   37172386.0         Asia  \n",
       "7                  AFG   37172386.0         Asia  \n",
       "8                  AFG   37172386.0         Asia  \n",
       "9                  AFG   37172386.0         Asia  "
      ]
     },
     "execution_count": 9,
     "metadata": {},
     "output_type": "execute_result"
    }
   ],
   "source": [
    "df=pandas.read_excel('s3://isat252.welshrj/COVID-19-geographic-disbtribution-worldwide.xlsx')\n",
    "df[:10]"
   ]
  },
  {
   "cell_type": "markdown",
   "metadata": {},
   "source": [
    "### The number of deaths relative to the number of cases"
   ]
  },
  {
   "cell_type": "code",
   "execution_count": 10,
   "metadata": {},
   "outputs": [
    {
     "data": {
      "text/plain": [
       "<matplotlib.axes._subplots.AxesSubplot at 0x7f1bc1df1ac8>"
      ]
     },
     "execution_count": 10,
     "metadata": {},
     "output_type": "execute_result"
    },
    {
     "data": {
      "image/png": "[encoded data removed]",
      "text/plain": [
       "<Figure size 432x288 with 1 Axes>"
      ]
     },
     "metadata": {},
     "output_type": "display_data"
    }
   ],
   "source": [
    "df.plot.scatter(title=\"Global number of deaths realted to number of cases\",x='cases', y='deaths')"
   ]
  },
  {
   "cell_type": "markdown",
   "metadata": {},
   "source": [
    "This scatter plot shows the number of deaths relative to the number cases. As the number of cases increases so then too should the number of deaths due to the positive correlation between the number of cases and the number of deaths. The -2000 deaths is likely due to a reporting error within the data set."
   ]
  },
  {
   "cell_type": "markdown",
   "metadata": {},
   "source": [
    "### Countries with the highest death to cases ratio"
   ]
  },
  {
   "cell_type": "code",
   "execution_count": 35,
   "metadata": {},
   "outputs": [
    {
     "data": {
      "text/plain": [
       "<matplotlib.axes._subplots.AxesSubplot at 0x7f1bc2d95d68>"
      ]
     },
     "execution_count": 35,
     "metadata": {},
     "output_type": "execute_result"
    },
    {
     "data": {
      "image/png": "[encoded data removed]",
      "text/plain": [
       "<Figure size 432x288 with 1 Axes>"
      ]
     },
     "metadata": {},
     "output_type": "display_data"
    }
   ],
   "source": [
    "death_case_ratio=df.groupby('countriesAndTerritories').sum()['deaths']/df.groupby('countriesAndTerritories').sum()['cases']\n",
    "death_case_ratio[:]\n",
    "death_case_ratio.nlargest(5).plot.bar(title=\"Top five countries with highest death to cases ratio\")"
   ]
  },
  {
   "cell_type": "markdown",
   "metadata": {},
   "source": [
    "This bar graph displays the top 5 countries with the highest death to cases ratio."
   ]
  },
  {
   "cell_type": "markdown",
   "metadata": {},
   "source": [
    "### United States cases per day"
   ]
  },
  {
   "cell_type": "code",
   "execution_count": 29,
   "metadata": {
    "scrolled": true
   },
   "outputs": [
    {
     "data": {
      "text/plain": [
       "<matplotlib.axes._subplots.AxesSubplot at 0x7feb5a93d828>"
      ]
     },
     "execution_count": 29,
     "metadata": {},
     "output_type": "execute_result"
    },
    {
     "data": {
      "image/png": "[encoded data removed]",
      "text/plain": [
       "<Figure size 432x288 with 1 Axes>"
      ]
     },
     "metadata": {},
     "output_type": "display_data"
    }
   ],
   "source": [
    "USA_data=df.loc[df['countriesAndTerritories']=='United_States_of_America']\n",
    "USA_data.plot(title='USA cases per day',y='cases',x='dateRep')"
   ]
  },
  {
   "cell_type": "markdown",
   "metadata": {},
   "source": [
    "This plot show the number of reported cases per day within the United States of America."
   ]
  },
  {
   "cell_type": "markdown",
   "metadata": {},
   "source": [
    "### United States deaths per day"
   ]
  },
  {
   "cell_type": "code",
   "execution_count": 31,
   "metadata": {},
   "outputs": [
    {
     "data": {
      "text/plain": [
       "<matplotlib.axes._subplots.AxesSubplot at 0x7feb5a8cf2b0>"
      ]
     },
     "execution_count": 31,
     "metadata": {},
     "output_type": "execute_result"
    },
    {
     "data": {
      "image/png": "[encoded data removed]",
      "text/plain": [
       "<Figure size 432x288 with 1 Axes>"
      ]
     },
     "metadata": {},
     "output_type": "display_data"
    }
   ],
   "source": [
    "USA_data=df.loc[df['countriesAndTerritories']=='United_States_of_America']\n",
    "USA_data.plot(title='USA deaths per day',y='deaths',x='dateRep')"
   ]
  },
  {
   "cell_type": "markdown",
   "metadata": {},
   "source": [
    "This plow shows the number of deaths per day within the United States of America."
   ]
  },
  {
   "cell_type": "markdown",
   "metadata": {},
   "source": [
    "## Future Work"
   ]
  },
  {
   "cell_type": "markdown",
   "metadata": {},
   "source": [
    "My limited knowledge is what held bme back on this assignment, due to this I would sometimes overcomplicate my code, or simply not know the correct code to use. I would like to in the future learn how to put more than one set of data on a graph, such as the USA deaths and cases plots which both have two distinct peaks. If I was able to overlay the line plots but give them seperate colors we could more easily see if the peaks line up. Another interesting comparison to make in the future would be the death rate of cases within a certain age range, the number of cases/deaths compared to GDP, and the number of cases/deaths compared to health care rating."
   ]
  }
 ],
 "metadata": {
  "kernelspec": {
   "display_name": "conda_python3",
   "language": "python",
   "name": "conda_python3"
  },
  "language_info": {
   "codemirror_mode": {
    "name": "ipython",
    "version": 3
   },
   "file_extension": ".py",
   "mimetype": "text/x-python",
   "name": "python",
   "nbconvert_exporter": "python",
   "pygments_lexer": "ipython3",
   "version": "3.6.5"
  }
 },
 "nbformat": 4,
 "nbformat_minor": 4
}
